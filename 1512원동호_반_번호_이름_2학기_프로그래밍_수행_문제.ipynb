{
  "cells": [
    {
      "cell_type": "markdown",
      "metadata": {
        "id": "view-in-github",
        "colab_type": "text"
      },
      "source": [
        "<a href=\"https://colab.research.google.com/github/1512dongdong/2022Python-after_school/blob/main/1512%EC%9B%90%EB%8F%99%ED%98%B8_%EB%B0%98_%EB%B2%88%ED%98%B8_%EC%9D%B4%EB%A6%84_2%ED%95%99%EA%B8%B0_%ED%94%84%EB%A1%9C%EA%B7%B8%EB%9E%98%EB%B0%8D_%EC%88%98%ED%96%89_%EB%AC%B8%EC%A0%9C.ipynb\" target=\"_parent\"><img src=\"https://colab.research.google.com/assets/colab-badge.svg\" alt=\"Open In Colab\"/></a>"
      ]
    },
    {
      "cell_type": "markdown",
      "metadata": {
        "id": "ee4W3WMQ1HAA"
      },
      "source": [
        "1. print 탭과 줄바꿈의 문제입니다. \n",
        "   다음 문장을 보고 똑같이 출력이 될 수있도록 프로그램을 하시오.\n",
        "   \n",
        "\"우리들은 모두\n",
        "\n",
        "무엇이 되고 싶다.\n",
        "\n",
        "너는 나에게 나는 너에게\n",
        "\n",
        "잊혀지지 않는 하나의 향기가 되고 싶다.\""
      ]
    },
    {
      "cell_type": "code",
      "execution_count": null,
      "metadata": {
        "colab": {
          "base_uri": "https://localhost:8080/"
        },
        "id": "Sa1sKAFJ0-jh",
        "outputId": "3ed7dcd8-3675-4435-fb54-f260f0e1e8ac"
      },
      "outputs": [
        {
          "output_type": "stream",
          "name": "stdout",
          "text": [
            "\"우리들은 모두\n",
            "\n",
            "무엇이 되고 싶다.\n",
            "\n",
            "너는 나에게 나는 너에게\n",
            "\n",
            "잊혀지지 않는 하나의 향기가 되고 싶다.\" \n"
          ]
        }
      ],
      "source": [
        "print(\"\"'\"우리들은 모두\\n\\n무엇이 되고 싶다.\\n\\n너는 나에게 나는 너에게\\n\\n잊혀지지 않는 하나의 향기가 되고 싶다.\"'\" \")"
      ]
    },
    {
      "cell_type": "markdown",
      "metadata": {
        "id": "F9GBfO-k2VMy"
      },
      "source": [
        "2. 문자열 '1230'을(num_str =\"1230\") 정수형으로 변환한 후 2000이 출력되게 프로그래밍 하시오."
      ]
    },
    {
      "cell_type": "code",
      "execution_count": null,
      "metadata": {
        "colab": {
          "base_uri": "https://localhost:8080/"
        },
        "id": "6NUnp4Gv2UvR",
        "outputId": "6fd3deea-92cc-4943-8536-2fa6dc4f06cc"
      },
      "outputs": [
        {
          "output_type": "stream",
          "name": "stdout",
          "text": [
            "2000\n"
          ]
        }
      ],
      "source": [
        "a = '1230'\n",
        "a = int(a)\n",
        "print(a+770)"
      ]
    },
    {
      "cell_type": "markdown",
      "metadata": {
        "id": "UTkzCEwP3Jw1"
      },
      "source": [
        "3. 문자열 슬라이싱에 관련된 문제입니다.\n",
        "   코로나에 걸린 사람이 병원에 주민번호를 등록하려고 합니다. 주민번호를 입력받아 앞자리 생년월일(6자리)만 출력되게 프로그래밍 하세요."
      ]
    },
    {
      "cell_type": "code",
      "execution_count": null,
      "metadata": {
        "colab": {
          "base_uri": "https://localhost:8080/"
        },
        "id": "vhbMtKVe3jdG",
        "outputId": "b2845d28-0847-46be-bee9-f807794383d3"
      },
      "outputs": [
        {
          "output_type": "stream",
          "name": "stdout",
          "text": [
            "810919\n"
          ]
        }
      ],
      "source": [
        "a = '810919-1058914' \n",
        "print( a[0:6] )"
      ]
    },
    {
      "cell_type": "markdown",
      "metadata": {
        "id": "VbcBVIsseGRM"
      },
      "source": [
        "4. replace 메서드를 이용해서 아래 문자열에서  소문자 'a' 를 대문자 'A'로 변경하는 프로그래밍을 작성하시오.\n",
        "   \n",
        "   \n",
        "   string = 'abcdfe2a354a32a'"
      ]
    },
    {
      "cell_type": "code",
      "execution_count": null,
      "metadata": {
        "colab": {
          "base_uri": "https://localhost:8080/"
        },
        "id": "SOG4EFrL7pCx",
        "outputId": "550eec8c-2923-4443-871a-217e59fc63a4"
      },
      "outputs": [
        {
          "output_type": "stream",
          "name": "stdout",
          "text": [
            "Abcdfe2A354A32A\n"
          ]
        }
      ],
      "source": [
        "string = 'abcdfe2a354a32a'\n",
        "string = string.replace( 'a', 'A')\n",
        "print(string)"
      ]
    },
    {
      "cell_type": "markdown",
      "metadata": {
        "id": "qWXfuRb576US"
      },
      "source": [
        "5. 사용자로부터 문자 한 개를 입력 받고, 소문자일 경우 대문자로, 대문자 일 경우, 소문자로 변경해서 출력하라.\n",
        "\n",
        "(꼭 islower()함수 사용)\n"
      ]
    },
    {
      "cell_type": "code",
      "execution_count": null,
      "metadata": {
        "colab": {
          "base_uri": "https://localhost:8080/"
        },
        "id": "7vLw0tt7_yEN",
        "outputId": "d96510cc-4b49-42e5-b834-8687fd7ec039"
      },
      "outputs": [
        {
          "output_type": "stream",
          "name": "stdout",
          "text": [
            "apple\n",
            "APPLE\n"
          ]
        }
      ],
      "source": [
        "a = \"APPLE\" \n",
        "a = a.lower()\n",
        "print(a)\n",
        "\n",
        "a = \"apple\"\n",
        "a = a.upper()\n",
        "print(a)"
      ]
    },
    {
      "cell_type": "markdown",
      "metadata": {
        "id": "fnMOiuCFA94Y"
      },
      "source": [
        "6.movie_rank 리스트에서 '스플릿'를 삭제하고 \n",
        "\n",
        "'공조2'를 '럭키'와 '배트맨' 사이에 추가하라.\n",
        "\n",
        "\n",
        "movie_rank = ['닥터 스트레인지', '슈퍼맨', '스플릿', '럭키', '배트맨']\n"
      ]
    },
    {
      "cell_type": "code",
      "execution_count": null,
      "metadata": {
        "colab": {
          "base_uri": "https://localhost:8080/"
        },
        "id": "uX6uxL8pDl2Z",
        "outputId": "260faa29-027e-4324-baa9-f4d4e78f481a"
      },
      "outputs": [
        {
          "output_type": "stream",
          "name": "stdout",
          "text": [
            "['닥터 스트레인지', '슈퍼맨', '스플릿', '배트맨', '공조2']\n"
          ]
        }
      ],
      "source": [
        "from pickle import APPEND\n",
        "movie_rank = ['닥터 스트레인지', '슈퍼맨', '스플릿', '럭키', '배트맨']\n",
        "del movie_rank[3]\n",
        "movie_rank.insert(4, \"공조2\")\n",
        "print(movie_rank)"
      ]
    },
    {
      "cell_type": "markdown",
      "metadata": {
        "id": "g_zcdgLMETW3"
      },
      "source": [
        "7.inventory 딕셔너리에서 메로나의 가격을 화면에 출력하라.\n",
        "\n",
        "inventory = \n",
        "            {\"쌍쌍바\": [300, 20],\n",
        "\n",
        "            \"메로나\": [400, 3],\n",
        "\n",
        "              \"죠스바\": [250, 100],\n",
        "              \n",
        "              \"월드콘\": [1500, 20]}\n",
        "\n"
      ]
    },
    {
      "cell_type": "code",
      "execution_count": null,
      "metadata": {
        "colab": {
          "base_uri": "https://localhost:8080/"
        },
        "id": "ibVJHSmWHda0",
        "outputId": "4c818e83-8e2f-48eb-c4f7-e252904244c1"
      },
      "outputs": [
        {
          "output_type": "stream",
          "name": "stdout",
          "text": [
            "메로나 가격:  400\n"
          ]
        }
      ],
      "source": [
        "inventory = {'메로나':400,\n",
        "             '죠스바':250,\n",
        "             '월드콘':1500}\n",
        "\n",
        "\n",
        "print(\"메로나 가격: \", inventory[\"메로나\"])"
      ]
    },
    {
      "cell_type": "markdown",
      "metadata": {
        "id": "yEYrP8dIIoIo"
      },
      "source": [
        "8. 사용자로 입력받은 단어가 아래 fruit 리스트에 포함되어 있는지를 확인하라. 포함되었다면 \"정답입니다\"를 아닐 경우 \"오답입니다\" 출력하라.\n",
        "\n",
        "fruit = [\"사과\", \"포도\", \"홍시\", \"복숭아\"]"
      ]
    },
    {
      "cell_type": "code",
      "execution_count": null,
      "metadata": {
        "colab": {
          "base_uri": "https://localhost:8080/"
        },
        "id": "Xdf-s_TII2cJ",
        "outputId": "8d05c420-feaf-4537-9ea0-37423318fc84"
      },
      "outputs": [
        {
          "output_type": "stream",
          "name": "stdout",
          "text": [
            "좋아하는 과일은?사과\n",
            "정답입니다.\n"
          ]
        }
      ],
      "source": [
        "fruit = [\"사과\", \"포도\", \"홍시\", \"복숭아\"]\n",
        "user = input(\"좋아하는 과일은?\")\n",
        "if user in fruit:\n",
        "    print(\"정답입니다.\")\n",
        "else:\n",
        "    print(\"오답입니다.\")"
      ]
    },
    {
      "cell_type": "markdown",
      "metadata": {
        "id": "sZd7838NJGxS"
      },
      "source": [
        "9. 사용자로부터 달러, 엔, 유로, 또는 위안 금액을 입력받은 후 이를 원으로 변환하는 프로그램을 작성하라. 각 통화별 환율은 다음과 같다.\n",
        "\n",
        "환율 = {\"달러\": 1400, \n",
        "        \"엔\": 1096, \n",
        "        \"유로\": 1268, \n",
        "        \"위안\": 171}\n",
        "\n",
        "다음 자료 환율을 사용하여 샘플로 \"200 달러\" 입력한다고 가정한다. \n",
        "\n",
        "ex) 입력 :200 달러 - (        작성해주세요.          )\n",
        "\n"
      ]
    },
    {
      "cell_type": "code",
      "execution_count": null,
      "metadata": {
        "id": "U8y6SAopjCEx",
        "colab": {
          "base_uri": "https://localhost:8080/"
        },
        "outputId": "859e1f9d-b908-47b5-aeb3-d1441b499925"
      },
      "outputs": [
        {
          "output_type": "stream",
          "name": "stdout",
          "text": [
            "입력: 200 달러\n",
            "280000.0 원\n"
          ]
        }
      ],
      "source": [
        "환율 = {\"달러\": 1400, \n",
        "        \"엔\": 1.096, \n",
        "        \"유로\": 1268, \n",
        "        \"위안\": 171}\n",
        "user = input(\"입력: \")\n",
        "num, currency = user.split()\n",
        "print(float(num) * 환율[currency], \"원\")"
      ]
    },
    {
      "cell_type": "markdown",
      "metadata": {
        "id": "pCKIcvO8jFSk"
      },
      "source": [
        "10. 변수를 사용하여 for문으로 작성하라. 숫자라는 변수를 선언하고(10,20,30,...,100)을 출력하시오."
      ]
    },
    {
      "cell_type": "code",
      "execution_count": null,
      "metadata": {
        "colab": {
          "base_uri": "https://localhost:8080/"
        },
        "id": "NR9by15vtYsG",
        "outputId": "5cccbeb5-01b0-4a44-c4a0-0f2274373835"
      },
      "outputs": [
        {
          "output_type": "stream",
          "name": "stdout",
          "text": [
            "10\n",
            "20\n",
            "30\n",
            "40\n",
            "50\n",
            "60\n",
            "70\n",
            "80\n",
            "90\n",
            "100\n"
          ]
        }
      ],
      "source": [
        "for 변수 in [10, 20, 30, 40, 50, 60, 70, 80, 90, 100]:\n",
        "  print(변수)"
      ]
    },
    {
      "cell_type": "markdown",
      "metadata": {
        "id": "T4Vnhz5_vsmz"
      },
      "source": [
        "11.  문자열 \"49.195\"를 실수(float)타입으로 변환해보세요."
      ]
    },
    {
      "cell_type": "code",
      "execution_count": null,
      "metadata": {
        "id": "_wSjPhxevsT1",
        "colab": {
          "base_uri": "https://localhost:8080/"
        },
        "outputId": "9e1073f5-5941-4611-94aa-3ea0958c7010"
      },
      "outputs": [
        {
          "output_type": "stream",
          "name": "stdout",
          "text": [
            "49.195 <class 'float'>\n"
          ]
        }
      ],
      "source": [
        "a =  \"49.195\"\n",
        "a = float(a)\n",
        "print(a, type(a))"
      ]
    },
    {
      "cell_type": "markdown",
      "metadata": {
        "id": "F3_D_xp5bFKF"
      },
      "source": [
        "12. 아래의 전화번호에서 하이픈('-')을 제거하고 출력하세요.(replace 사용 가능)\n",
        "    phone_num = \"010-1234-5678\"\n",
        "    출력 예) 01012345678"
      ]
    },
    {
      "cell_type": "code",
      "execution_count": null,
      "metadata": {
        "id": "PDltjuSUbFKF",
        "colab": {
          "base_uri": "https://localhost:8080/"
        },
        "outputId": "60205bb6-e58a-4e33-b76d-2ee82876d0f9"
      },
      "outputs": [
        {
          "output_type": "stream",
          "name": "stdout",
          "text": [
            "01012345678\n"
          ]
        }
      ],
      "source": [
        "phone_num = \"010-1234-5678\" \n",
        "phone_num = phone_num.replace('-', '')\n",
        "print( phone_num )"
      ]
    }
  ],
  "metadata": {
    "colab": {
      "provenance": [],
      "include_colab_link": true
    },
    "kernelspec": {
      "display_name": "Python 3.8.2 64-bit",
      "language": "python",
      "name": "python3"
    },
    "language_info": {
      "name": "python",
      "version": "3.8.2"
    },
    "vscode": {
      "interpreter": {
        "hash": "570feb405e2e27c949193ac68f46852414290d515b0ba6e5d90d076ed2284471"
      }
    }
  },
  "nbformat": 4,
  "nbformat_minor": 0
}